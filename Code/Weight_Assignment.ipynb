{
 "cells": [
  {
   "cell_type": "code",
   "execution_count": 1,
   "metadata": {
    "id": "ATBS67N3PqRQ"
   },
   "outputs": [],
   "source": [
    "from PIL import Image\n",
    "from itertools import product\n",
    "import os\n",
    "import pandas as pd\n",
    "import seaborn as sns\n",
    "from scipy.spatial.distance import squareform\n",
    "import numpy as np\n",
    "import matplotlib.pyplot as plt\n",
    "from numpy import asarray \n"
   ]
  },
  {
   "cell_type": "code",
   "execution_count": 2,
   "metadata": {
    "id": "0sU6Y1ixLg2z"
   },
   "outputs": [],
   "source": [
    "def make_matrix(arr):\n",
    "  \"\"\" \n",
    "  Goal:\n",
    "  Transform the input to appropriate format\n",
    "\n",
    "  Input:\n",
    "  arr: the array with the weight with respect to the right order (w = w1, w2, w3, w4...)\n",
    "  \n",
    "  Output:\n",
    "  A: Transformed the w array to get the right format of the A matrix\n",
    "  \"\"\"\n",
    "  X = (squareform(arr)).astype(float)\n",
    "  row, col = np.diag_indices(X.shape[0])\n",
    "  X[row,col] = np.ones(X.shape[0])\n",
    "  for i in range(0, len(row)):\n",
    "      for j in range(0, len(col)):\n",
    "          if i < j:\n",
    "              X[i, j] = (1 / X[i, j])\n",
    "  \n",
    "         \n",
    "  A = np.asarray(X)\n",
    "  return A"
   ]
  },
  {
   "cell_type": "code",
   "execution_count": 7,
   "metadata": {
    "id": "O64xTkS2Lt0n"
   },
   "outputs": [],
   "source": [
    " def AHP_1_Participant(arr):\n",
    "  \"\"\" \n",
    "  Goal:\n",
    "  Apply the AHP only on one participant to calculate the Consistency ratio, the weights, their standard deviation and the rgmm\n",
    "  \n",
    "  Input:\n",
    "  arr: the array with the weight with respect to the right order (w = [w1, w2, w3, w4, ..., wi])\n",
    "  \n",
    "  Output:\n",
    "  A: Transformed the w array to get the right format of the A matrix (using the make_matrix function)\n",
    "  p: A dataframe with the normalized weights of the criterions and their st. deviation and the RGMM and their standard deviation\n",
    "  cr: The consistency ratio of the participant\n",
    "  rggm: The RGMM values of the participant\n",
    "\n",
    "  Plot:\n",
    "  1. The A matrix with the answers to cross validate it\n",
    "  2. The Consistency Ratio Matrix to detect the \"suspicious\" weights\n",
    "  3. The consistency ration of each participant and the normalized one\n",
    "  \"\"\"\n",
    "\n",
    "  alpha = 0.1\n",
    "  A = make_matrix(arr)\n",
    "  n = len(A)\n",
    "  x_ticks = ['C{}'.format(i) for i in range(1, n+1)]\n",
    "  sums = np.array(pd.DataFrame(A).sum())\n",
    "  ln_rgmm = np.log(A)\n",
    "  rgmm_sum = np.array(np.exp(pd.DataFrame(ln_rgmm).sum(axis = 1) / n))\n",
    "  rgmm_sum_2 = rgmm_sum.sum()\n",
    "  rggm = rgmm_sum / rgmm_sum_2\n",
    "  errors = np.zeros(np.shape(A))\n",
    "  \n",
    "  size = np.shape(errors)[1]\n",
    "  for i in range(0, size):\n",
    "      for j in range(0, size):\n",
    "          errors[i, j] = np.log(A[i, j] * rggm[j] / rggm[i]) ** 2\n",
    "  \n",
    "  errors_sum = np.sum(errors, 0)\n",
    "  error_calc = np.sqrt(errors_sum / (size - 1))\n",
    "  rggm_cosh = rggm * np.cosh(error_calc)\n",
    "  rggm_cosh_sum = np.sum(rggm_cosh)\n",
    "  rggm_final = rggm_cosh / rggm_cosh_sum\n",
    "  rggm_matmul = np.matmul(sums, rggm)\n",
    "\n",
    "  plus_minus = rggm * np.sinh(error_calc)/rggm_cosh_sum\n",
    "  cr0 = (rggm_matmul - n)/((2.7699*n-4.3513)-n)\n",
    "  eig_val = np.linalg.eig(A)[0].max()\n",
    "  eig_vec = np.linalg.eig(A)[1][:,0]\n",
    "  p = np.round(np.real(eig_vec/eig_vec.sum()), 3)\n",
    "  cr = np.round(np.real((eig_val - n)/((2.7699 * n - 4.3513) - n)), 3)\n",
    "  evt = np.real(A * size / eig_val)\n",
    "\n",
    "  for i in range(0, size):\n",
    "      for j in range(0, size):\n",
    "          evt[i, j] = evt[i, j]* rggm_final[j]\n",
    "\n",
    "  pi_pi = np.zeros(np.shape(A))\n",
    "  for i in range(0, size):\n",
    "      for j in range(0, size):\n",
    "          pi_pi[i, j] = rggm[j] / rggm[i]\n",
    "\n",
    "  pi_pi_A = pi_pi * A\n",
    "  pi_pi_A2 = np.zeros(np.shape(A))\n",
    "  for i in range(0, size):\n",
    "      for j in range(0, size):\n",
    "          if pi_pi_A[i, j] > 1/9 and pi_pi_A[i, j] < 9:\n",
    "              if pi_pi_A[i, j] > 1:\n",
    "                  pi_pi_A2[i, j] = A[i, j] * pi_pi[i, j]\n",
    "              else:\n",
    "                  pi_pi_A2[i, j] = 1 / (A[i, j] * pi_pi[i, j])\n",
    "          else:\n",
    "              pi_pi_A2[i, j] = 0\n",
    "  Consistency_ratio = list(pi_pi_A2[np.triu_indices(n, k = 1)])\n",
    "  std = np.array(pd.DataFrame(evt).std(1))\n",
    "  plt.title('A')\n",
    "  g1 = sns.heatmap(pd.DataFrame(np.tril(A)), annot=True, cmap = \"viridis\", cbar=False)\n",
    "  g1.set_xticklabels(x_ticks)\n",
    "  g1.set_yticklabels(x_ticks)\n",
    "  plt.show()\n",
    "  plt.title('Consistency Ratio Matrix')\n",
    "  g2 = sns.heatmap(pd.DataFrame(np.tril(pi_pi_A2)), annot=True, cmap = \"viridis\", cbar=False)\n",
    "  g2.set_yticklabels(x_ticks)\n",
    "  g2.set_xticklabels(x_ticks)\n",
    "  plt.savefig(\"AHP.png\")\n",
    "  plt.show()\n",
    "  p = pd.DataFrame(p, columns = ['Weights'])\n",
    "  p.index = p.index + 1\n",
    "  p.index = 'Crit-' + p.index.astype(str)\n",
    "  p['Weights'] = p['Weights'].astype(float).map(\"{:.2%}\".format)\n",
    "  p['Weights +/-'] = std\n",
    "  p['Weights +/-'] = p['Weights +/-'].astype(float).map(\"{:.2%}\".format)\n",
    "  p['RGMM'] = rggm_final\n",
    "  p['RGMM'] = p['RGMM'].astype(float).map(\"{:.2%}\".format)\n",
    "  p['+/-'] = plus_minus\n",
    "  p['+/-'] = p['+/-'].astype(float).map(\"{:.2%}\".format)\n",
    "  print(p)\n",
    "  print(' ')\n",
    "  print('Consistency Ratio: {:.2%} & Consistency Ratio of Weighted: {:.2%}'.format(cr0, cr))\n",
    "  return A, p, cr, rggm"
   ]
  },
  {
   "cell_type": "code",
   "execution_count": 8,
   "metadata": {
    "id": "hc1l2lyYLyk0"
   },
   "outputs": [],
   "source": [
    "def AHP_Consolidated(A, rggm, w = 1):\n",
    "  \"\"\" \n",
    "  Goal:\n",
    "  Apply the AHP to multiple participants to calculate the Consistency ratio, the weights, their standard deviation and the consolidated A\n",
    "  \n",
    "  Input:\n",
    "  A: a list containing the different A matrices (A = [A1, A2, A3, A4, ..., Ai]) (came from the AHP_1_Participant function)\n",
    "  rggm: a list containing the different rgmm matrices (rggm = [rgmm1, rgmm2, rgmm3, rgmm, ..., rgmmi]) (came from the AHP_1_Participant function)\n",
    "  w: the weight of the different stakeholders - Not yet implemented\n",
    "\n",
    "  Output:\n",
    "  cons_exp: The consolidated A matrix of the multiple participants\n",
    "  p: A dataframe with the normalized weights of the criterions and their st. deviation\n",
    "  cr: The consolidated consistency ratio\n",
    "\n",
    "  Plot:\n",
    "  1. The A matrix with the consolidated answers to cross validate it\n",
    "  2. The consolidated Consistency ratio and the consunsus value\n",
    "\n",
    "  \"\"\"\n",
    "  n = len(A)\n",
    "  logs = []\n",
    "  for i in A:\n",
    "      logs.append(np.array(np.log(i)))\n",
    "  cons = np.zeros(np.shape(logs[0]))\n",
    "  table_rggm = pd.DataFrame(rggm)\n",
    "  table_rggm_ln = -table_rggm*np.log(table_rggm)\n",
    "  alphas = table_rggm_ln.sum(1)\n",
    "  alpha = np.exp(np.sum(alphas)/n)\n",
    "  Da = np.exp(alpha)\n",
    "  gammas0 = table_rggm.sum(0)/n\n",
    "  gammas = -gammas0*np.log(gammas0)\n",
    "  gamma = np.exp(np.sum(gammas))\n",
    "  beta = gamma/alpha\n",
    "  for i in logs:\n",
    "      cons += i\n",
    "  cons = cons/n\n",
    "  cons_exp = (np.exp(cons))\n",
    "  size = np.shape(cons_exp)[1]\n",
    "  x_ticks = ['C{}'.format(i) for i in range(1, size+1)]\n",
    "  ahp_cor1 = np.exp((-9/(size+8)*np.log(9/(size+8))-(size-1)*(1/(size+8)*np.log(1/(size+8)))))\n",
    "  ahp_cor2 = np.exp((size-n)*(-1/(size+8)*np.log(1/(size+8)))+n*(-(n+8)/(size+8)/n*np.log((n+8)/(size+8)/n)))\n",
    "  ahp_cor3 = size / ahp_cor1\n",
    "  it0 = (cons_exp.sum(1)/10)\n",
    "  it = np.matmul(cons_exp, it0)\n",
    "  scale0 = it0 / np.max(it0)\n",
    "  scale = it / np.max(it)\n",
    "  for i in range(20):\n",
    "      it = np.matmul(cons_exp, scale)\n",
    "      scale = it / np.max(it)\n",
    "  \n",
    "  norm = np.zeros(len(scale))\n",
    "  for i in range(len(scale)):\n",
    "      norm[i] = scale[i] / sum(scale)\n",
    "  p = pd.DataFrame(norm, columns = ['Cons Weights'])\n",
    "  sum_cols = cons_exp.sum(0)\n",
    "  lamda = (sum(sum_cols*norm))\n",
    "  evt = np.real(size / lamda * cons_exp)\n",
    "  for i in range(0, size):\n",
    "      for j in range(0, size):\n",
    "          evt[i, j] = evt[i, j]* norm[j]\n",
    "  std = np.array(pd.DataFrame(evt).std(1))\n",
    "  cr = (lamda - len(sum_cols)) / ((2.7699*len(sum_cols)-4.3513)-len(sum_cols))\n",
    "  consensus = (1/beta-1/ahp_cor3)/(1-1/ahp_cor3)\n",
    "  g = sns.heatmap(pd.DataFrame(np.tril(cons_exp)), annot=True, cmap = \"viridis\", cbar=False)\n",
    "  g.set_xticklabels(x_ticks)\n",
    "  g.set_yticklabels(x_ticks)\n",
    "  plt.show()\n",
    "  plt.savefig(\"AHP.png\")\n",
    "  p.index = p.index + 1\n",
    "  p.index = 'Crit-' + p.index.astype(str)\n",
    "  p['Cons Weights'] = p['Cons Weights'].astype(float).map(\"{:.2%}\".format)\n",
    "  p['Weights +/-'] = std\n",
    "  p['Weights +/-'] = p['Weights +/-'].astype(float).map(\"{:.2%}\".format)\n",
    "  print(p)\n",
    "  print(' ')\n",
    "  print('Consistency Ratio of Consolidated: {:.2%} \\nConsensus: {:.2%}'.format(cr, consensus))\n",
    "  return cons_exp, p, cr"
   ]
  },
  {
   "cell_type": "code",
   "execution_count": 9,
   "metadata": {
    "colab": {
     "base_uri": "https://localhost:8080/",
     "height": 1000
    },
    "id": "8ij1sbTHuNQU",
    "outputId": "597de9ce-c75b-44b7-d308-3d0e3e88ed51"
   },
   "outputs": [
    {
     "data": {
      "image/png": "[encoded data removed]",
      "text/plain": [
       "<Figure size 432x288 with 1 Axes>"
      ]
     },
     "metadata": {
      "needs_background": "light"
     },
     "output_type": "display_data"
    },
    {
     "data": {
      "image/png": "[encoded data removed]",
      "text/plain": [
       "<Figure size 432x288 with 1 Axes>"
      ]
     },
     "metadata": {
      "needs_background": "light"
     },
     "output_type": "display_data"
    },
    {
     "name": "stdout",
     "output_type": "stream",
     "text": [
      "       Weights Weights +/-    RGMM     +/-\n",
      "Crit-1  34.50%      11.41%  34.51%  11.25%\n",
      "Crit-2   6.20%       1.71%   6.21%   1.70%\n",
      "Crit-3   9.10%       3.42%   9.14%   3.33%\n",
      "Crit-4   4.40%       0.93%   4.39%   0.92%\n",
      "Crit-5   3.00%       1.02%   2.98%   0.99%\n",
      "Crit-6  42.80%      16.91%  42.77%  15.46%\n",
      " \n",
      "Consistency Ratio: 5.08% & Consistency Ratio of Weighted: 4.40%\n"
     ]
    }
   ],
   "source": [
    "A11, weights, cr, rgmm11 = AHP_1_Participant([1/7,1/6,1/8,1/9,2,2,1/2,1/2,5,1/2,1/5,7,1/2,8,9])"
   ]
  },
  {
   "cell_type": "code",
   "execution_count": null,
   "metadata": {},
   "outputs": [],
   "source": []
  }
 ],
 "metadata": {
  "colab": {
   "provenance": []
  },
  "kernelspec": {
   "display_name": "Python 3",
   "language": "python",
   "name": "python3"
  },
  "language_info": {
   "codemirror_mode": {
    "name": "ipython",
    "version": 3
   },
   "file_extension": ".py",
   "mimetype": "text/x-python",
   "name": "python",
   "nbconvert_exporter": "python",
   "pygments_lexer": "ipython3",
   "version": "3.8.8"
  }
 },
 "nbformat": 4,
 "nbformat_minor": 1
}
