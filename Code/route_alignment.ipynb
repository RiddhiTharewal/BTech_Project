{
 "cells": [
  {
   "cell_type": "code",
   "execution_count": 1,
   "id": "4f0d50ff",
   "metadata": {},
   "outputs": [],
   "source": [
    "#import libraries\n",
    "import numpy as np\n",
    "import random\n",
    "import copy\n",
    "import matplotlib.pyplot as plt\n",
    "import seaborn as sns\n",
    "import PIL\n",
    "from PIL import Image\n",
    "from itertools import product\n",
    "import os\n",
    "from numpy import asarray \n"
   ]
  },
  {
   "cell_type": "code",
   "execution_count": 2,
   "id": "b91c7301",
   "metadata": {
    "scrolled": true
   },
   "outputs": [
    {
     "name": "stdout",
     "output_type": "stream",
     "text": [
      "905 905\n",
      "[  6   7 211]\n"
     ]
    }
   ],
   "source": [
    "PIL.Image.MAX_IMAGE_PIXELS = 5706050900\n",
    "im = Image.open('./unet1.jpg')\n",
    "row,col = im.size\n",
    "numpydata = asarray(im)\n",
    " \n",
    "if(row<col):\n",
    "    col = row\n",
    "else:\n",
    "    row = col\n",
    "print(row,col)\n",
    "print(numpydata[0][0])"
   ]
  },
  {
   "cell_type": "code",
   "execution_count": 3,
   "id": "2a1d37d4",
   "metadata": {},
   "outputs": [],
   "source": [
    "new_mat = []\n",
    "\n",
    "for i in range(col):\n",
    "    mat = []\n",
    "    for j in range(row):\n",
    "        (b,g,r) = numpydata[i,j]\n",
    "        if(b==0 and g==255 and r==255):\n",
    "            mat.append(34.5)\n",
    "        elif(b==255 and g==255 and r==0):\n",
    "            mat.append(6.2)\n",
    "        elif(b==255 and g==0 and r==255):\n",
    "            mat.append(9.1)\n",
    "        elif(b==0 and g==255 and r==0):\n",
    "            mat.append(34,5)\n",
    "        elif(b==0 and g==255 and r==255):\n",
    "            mat.append(4.4)\n",
    "        elif(b==0 and g==0 and r==255):\n",
    "            mat.append(3)\n",
    "        elif(b==255 and g==255 and r==255):\n",
    "            mat.append(42.8)\n",
    "        else:\n",
    "            mat.append(1)\n",
    "    new_mat.append(mat)\n",
    "    \n"
   ]
  },
  {
   "cell_type": "code",
   "execution_count": 4,
   "id": "f606609e",
   "metadata": {},
   "outputs": [
    {
     "name": "stdout",
     "output_type": "stream",
     "text": [
      "891\n"
     ]
    }
   ],
   "source": [
    "#start from random points\n",
    "R = row\n",
    "C = col\n",
    "\n",
    "# 8 possible moves\n",
    "dx = [ 1, -1, 0, 0, 1, 1, -1, -1 ]\n",
    "dy = [ 0, 0, 1, -1, 1, -1, 1, -1 ]\n",
    "dp = [[0 for x in range(C)] for x in range(R)]\n",
    "ans = []\n",
    "pq = []\n",
    "\n",
    "class Cell():\n",
    "    def __init__(self, x, y, z):\n",
    "        self.x = x\n",
    "        self.y = y\n",
    "        self.cost = z\n",
    "        \n",
    "        \n",
    "\n",
    "\n",
    "# To verify whether a move is within the boundary.\n",
    "def isSafe(x, y):\n",
    "    return (x >= 0 and x < R and\n",
    "            y >= 0 and y < C)\n",
    "\n",
    "\n",
    "def minCost(cost, m, n, src_i, src_j):\n",
    "    visited = [[False for x in range(C)]\n",
    "               for x in range(R)]\n",
    "\n",
    "            \n",
    "    for i in range(0,R):\n",
    "        a = []\n",
    "        for j in range(0,C):\n",
    "            dp[i][j] = float(\"Inf\")\n",
    "            visited[i][j] = False\n",
    "            t = []\n",
    "            a.append(t)\n",
    "        ans.append(a)\n",
    "    dp[src_i][src_j] = cost[src_i][src_j]\n",
    "    pq.append(Cell(src_i, src_j, cost[src_i][src_j]))\n",
    "    temp = []\n",
    "    t = []\n",
    "    t.append(src_i)\n",
    "    t.append(src_j)\n",
    "    temp.append(t)\n",
    "    ans[src_i][src_j] = temp\n",
    "    while(len(pq)):\n",
    "        cell = pq[0]\n",
    "        pq.pop(0)\n",
    "        x = cell.x\n",
    "        y = cell.y\n",
    "        if(visited[x][y]):\n",
    "            continue\n",
    "\n",
    "        visited[x][y] = True\n",
    "\n",
    "        ans_v = 1000000000\n",
    "        for i in range(8):\n",
    "            temp = []\n",
    "            for j in range(0,len(ans[x][y])):\n",
    "                temp.append(ans[x][y][j])\n",
    "            next_x = x + dx[i]\n",
    "            next_y = y + dy[i]\n",
    "            if(isSafe(next_x, next_y) and\n",
    "                not visited[next_x][next_y]):\n",
    "                a = dp[x][y] + cost[next_x][next_y]\n",
    "                if(a<dp[next_x][next_y]):\n",
    "                    dp[next_x][next_y]=a\n",
    "                    ans_v = a\n",
    "                    t = []\n",
    "                    t.append(next_x)\n",
    "                    t.append(next_y)\n",
    "                    temp.append(t)\n",
    "                    ans[next_x][next_y] = temp\n",
    "\n",
    "                pq.append(Cell(next_x, next_y,\n",
    "                            dp[next_x][next_y]))\n",
    "    return dp[m][n]\n",
    "\n",
    "# Driver code\n",
    "cost = new_mat\n",
    "print(minCost(cost, 700, 900,179,10))\n",
    "\n"
   ]
  },
  {
   "cell_type": "code",
   "execution_count": 27,
   "id": "0c7f6056",
   "metadata": {},
   "outputs": [
    {
     "data": {
      "text/plain": [
       "758"
      ]
     },
     "execution_count": 27,
     "metadata": {},
     "output_type": "execute_result"
    }
   ],
   "source": [
    "import numpy as np\n",
    "import random\n",
    "import copy\n",
    "import matplotlib.pyplot as plt\n",
    "import seaborn as sns\n",
    "import PIL\n",
    "from PIL import Image\n",
    "from itertools import product\n",
    "import os\n",
    "from numpy import asarray \n",
    "\n",
    "dest_i = 882\n",
    "dest_j = 767\n",
    "\n",
    "array = np.zeros([row,col,3],dtype= np.uint8)\n",
    "for i in range(0,row):\n",
    "    for j in range(0,col):\n",
    "        array[i:i+1,j:j+1] = numpydata[i][j]\n",
    "costs = 0\n",
    "for i in range(0,len(ans[dest_i][dest_j])):\n",
    "    j = ans[dest_i][dest_j][i][0]\n",
    "    k = ans[dest_i][dest_j][i][1]\n",
    "#     print(j)\n",
    "    costs = costs+1\n",
    "    array[k:k+1,j:j+1] =[139, 0, 0]\n",
    "data = Image.fromarray(array)\n",
    "data.save('output.png')\n",
    "costs\n"
   ]
  }
 ],
 "metadata": {
  "kernelspec": {
   "display_name": "Python 3",
   "language": "python",
   "name": "python3"
  },
  "language_info": {
   "codemirror_mode": {
    "name": "ipython",
    "version": 3
   },
   "file_extension": ".py",
   "mimetype": "text/x-python",
   "name": "python",
   "nbconvert_exporter": "python",
   "pygments_lexer": "ipython3",
   "version": "3.8.8"
  }
 },
 "nbformat": 4,
 "nbformat_minor": 5
}
